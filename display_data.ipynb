{
 "cells": [
  {
   "cell_type": "code",
   "execution_count": 340,
   "metadata": {},
   "outputs": [],
   "source": [
    "# Imports modules\n",
    "import pymysql as ms\n",
    "import matplotlib.pyplot as plt\n",
    "from pandas import DataFrame as Df"
   ]
  },
  {
   "cell_type": "code",
   "execution_count": 341,
   "metadata": {},
   "outputs": [],
   "source": [
    "# Calls the connect method from pymysql and pass parameters required to make a connection to the database data\n",
    "myDb = ms.connect(host='localhost',user='root_admin', passwd='Secured_V@ult10',db='data', port=3306)"
   ]
  },
  {
   "cell_type": "code",
   "execution_count": 342,
   "metadata": {},
   "outputs": [],
   "source": [
    "# Variable select will be executed as sql code and return everying from table 'user_data'\n",
    "select = \"SELECT * FROM user_data\""
   ]
  },
  {
   "cell_type": "code",
   "execution_count": 343,
   "metadata": {},
   "outputs": [],
   "source": [
    "# Cursor method allows for the interaction between Python and sql database\n",
    "# Cursor exexcute runs sql code and fetch returns all values requested\n",
    "cursor = myDb.cursor()\n",
    "cursor.execute(select)\n",
    "result = cursor.fetchall()"
   ]
  },
  {
   "cell_type": "code",
   "execution_count": 344,
   "metadata": {},
   "outputs": [
    {
     "data": {
      "image/png": "[encoded data removed]",
      "text/plain": [
       "<Figure size 432x288 with 1 Axes>"
      ]
     },
     "metadata": {},
     "output_type": "display_data"
    }
   ],
   "source": [
    "# Creates a DataFrame\n",
    "df = Df(result, columns=['col1','col2','col3'])\n",
    "\n",
    "# Sets the values and properties for the pie chart\n",
    "columns = 'column 1','column 2','column 3'\n",
    "scores =[sum(df['col1']), sum(df['col2']), sum(df['col3'])]\n",
    "colors = ['teal', 'green', 'orange']\n",
    "\n",
    "# Creates the pie chart\n",
    "plt.pie(scores, labels=columns, colors=colors, autopct='%1.1f%%')\n",
    "\n",
    "# Displays chart\n",
    "plt.show()"
   ]
  }
 ],
 "metadata": {
  "kernelspec": {
   "display_name": "Python 3",
   "language": "python",
   "name": "python3"
  }
 },
 "nbformat": 4,
 "nbformat_minor": 2
}
